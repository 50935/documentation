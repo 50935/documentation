{
 "cells": [
  {
   "cell_type": "markdown",
   "metadata": {},
   "source": [
    "## Introduction to Version Control \n",
    "### Contents:\n",
    "<ol>\n",
    "<li>Creating acount at Github and GitHub tools</li>\n",
    "<li>Pushing and pulling codes with version update numbers and commit message</li>\n",
    "    2.1 GitHub Desktop<br>\n",
    "   2.2 Subline Text\n",
    "    \n",
    "<li>Introduction to fundamental elements of GitHub</li>\n",
    "    3.1 repo<br>\n",
    "    3.2 organization<br>\n",
    "    3.3 readme<br>\n",
    "    3.4 gitignore<br>\n",
    "    3.5 wiki <br>\n",
    "    3.6 forking <br>\n",
    "<li> Command line method for GitHub and Git for remote cloud and PC.</li>\n",
    "<li>Introduction to NBviewers and Github hosted website</li>\n",
    "    </ol>"
   ]
  },
  {
   "cell_type": "markdown",
   "metadata": {},
   "source": [
    "### 1. Creating acount at Github and GitHub tools\n"
   ]
  },
  {
   "cell_type": "markdown",
   "metadata": {},
   "source": [
    "![img](img/1.png)"
   ]
  },
  {
   "cell_type": "markdown",
   "metadata": {},
   "source": [
    "![img](img/2.png)\n",
    "[Source Link:https://github.com/](https://github.com/)"
   ]
  },
  {
   "cell_type": "markdown",
   "metadata": {},
   "source": [
    "![img](img/3.png)"
   ]
  },
  {
   "cell_type": "markdown",
   "metadata": {},
   "source": [
    "### 2. Pushing and pulling codes with version update numbers and commit message"
   ]
  },
  {
   "cell_type": "markdown",
   "metadata": {},
   "source": [
    "### 2.1 GitHub Desktop\n",
    "![img](img/4.png)"
   ]
  },
  {
   "cell_type": "markdown",
   "metadata": {},
   "source": [
    "### 2.2 Subline Text"
   ]
  },
  {
   "cell_type": "markdown",
   "metadata": {},
   "source": [
    "![img](img/5.png)"
   ]
  },
  {
   "cell_type": "markdown",
   "metadata": {},
   "source": [
    "### 3. Introduction to fundamental elements of GitHub\n",
    "\n",
    "We will learn about following subtopics in demo class."
   ]
  },
  {
   "cell_type": "markdown",
   "metadata": {},
   "source": [
    "- 3.1 repo<br>\n",
    "- 3.2 organization<br>\n",
    "- 3.3 readme<br>\n",
    "- 3.4 gitignore<br>\n",
    "- 3.5 wiki <br>\n",
    "- 3.6 forking <br>"
   ]
  },
  {
   "cell_type": "markdown",
   "metadata": {},
   "source": [
    "### 4. Command line method for GitHub and Git for remote cloud and PC.\n",
    "\n",
    "We will discuss this in other classes."
   ]
  },
  {
   "cell_type": "markdown",
   "metadata": {},
   "source": [
    "### 5. Introduction to NBviewers and Github hosted website\n",
    "\n",
    "We will discuss this in other classes"
   ]
  },
  {
   "cell_type": "code",
   "execution_count": null,
   "metadata": {},
   "outputs": [],
   "source": []
  }
 ],
 "metadata": {
  "kernelspec": {
   "display_name": "Python 3",
   "language": "python",
   "name": "python3"
  },
  "language_info": {
   "codemirror_mode": {
    "name": "ipython",
    "version": 3
   },
   "file_extension": ".py",
   "mimetype": "text/x-python",
   "name": "python",
   "nbconvert_exporter": "python",
   "pygments_lexer": "ipython3",
   "version": "3.7.3"
  }
 },
 "nbformat": 4,
 "nbformat_minor": 4
}
