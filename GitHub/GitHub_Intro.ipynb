{
 "cells": [
  {
   "cell_type": "markdown",
   "metadata": {},
   "source": [
    "# How to use GitHub?"
   ]
  },
  {
   "cell_type": "markdown",
   "metadata": {},
   "source": [
    "GitHub brings together the world's largest community of developers to discover, share, and build better software.[Source:](https://github.com/)"
   ]
  },
  {
   "cell_type": "markdown",
   "metadata": {},
   "source": [
    "  ## Sign Up in \n",
    "  https://github.com/\n",
    "  ## Download and install Desktop GitHub:\n",
    "  https://desktop.github.com/\n",
    " ## Install Anaconda Navigator\n",
    " https://www.anaconda.com/products/individual\n",
    " "
   ]
  },
  {
   "cell_type": "markdown",
   "metadata": {},
   "source": [
    "![img](5.png)\n",
    " ![img](0.png)\n",
    " ![img](2.png)\n",
    " ![img](1.png)\n",
    " ![img](3.png)\n",
    " ![img](4.png)\n",
    " ![img](8.png)\n",
    "  ![img](9.png)\n",
    " ![img](10.png)\n",
    " ![img](11.png)\n",
    "  ![img](12.png)\n",
    " ![img](13.png)\n",
    " ![img](14.png)\n",
    "  ![img](15.png)\n",
    " ![img](16.png)\n",
    " ![img](17.png)\n",
    "  ![img](18.png)\n",
    " ![img](19.png)\n",
    "  ![img](20.png)\n",
    "  ![img](21.png)\n",
    "  ## Push it\n",
    " ![img](22.png)\n",
    "  ![img](23.png)\n",
    " ## Check your repository like www.github.com\\username\n",
    "   ![img](24.png)\n",
    "  ![img](25.png)\n",
    "  ![img](26.png)\n",
    "   ![img](27.png)\n",
    "  ![img](28.png)\n",
    "    ![img](29.png)\n",
    "  ![img](Thn.png)\n",
    "\n",
    " "
   ]
  }
 ],
 "metadata": {
  "kernelspec": {
   "display_name": "Python 3",
   "language": "python",
   "name": "python3"
  },
  "language_info": {
   "codemirror_mode": {
    "name": "ipython",
    "version": 3
   },
   "file_extension": ".py",
   "mimetype": "text/x-python",
   "name": "python",
   "nbconvert_exporter": "python",
   "pygments_lexer": "ipython3",
   "version": "3.7.6"
  }
 },
 "nbformat": 4,
 "nbformat_minor": 4
}
